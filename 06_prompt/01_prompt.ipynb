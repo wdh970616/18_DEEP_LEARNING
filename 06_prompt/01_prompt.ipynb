{
 "cells": [
  {
   "cell_type": "code",
   "execution_count": null,
   "metadata": {},
   "outputs": [],
   "source": [
    "# openai 회사(gpt) 모델을 사용하기 위한 패키지\n",
    "!pip install openai"
   ]
  },
  {
   "cell_type": "code",
   "execution_count": null,
   "metadata": {},
   "outputs": [],
   "source": [
    "# 파이썬 환경변수\n",
    "!pip install python-dotenv"
   ]
  },
  {
   "cell_type": "code",
   "execution_count": 4,
   "metadata": {},
   "outputs": [
    {
     "data": {
      "text/plain": [
       "True"
      ]
     },
     "execution_count": 4,
     "metadata": {},
     "output_type": "execute_result"
    }
   ],
   "source": [
    "# 환경 변수\n",
    "from dotenv import load_dotenv\n",
    "\n",
    "load_dotenv()"
   ]
  },
  {
   "cell_type": "code",
   "execution_count": 5,
   "metadata": {},
   "outputs": [
    {
     "name": "stdout",
     "output_type": "stream",
     "text": [
      "sk-IaNn45o7UVouA3w_SpXkqDgUC-vCfBeqdcfG5u5C0GT3BlbkFJTBYqT29RAiPfsNwjzGsoU9Qs_Ya9Ao9exPy16Ce7kA\n"
     ]
    }
   ],
   "source": [
    "import os\n",
    "\n",
    "my_variable = os.getenv('OPENAI_API_KEY')\n",
    "\n",
    "print(my_variable)"
   ]
  },
  {
   "cell_type": "code",
   "execution_count": 9,
   "metadata": {},
   "outputs": [
    {
     "name": "stdout",
     "output_type": "stream",
     "text": [
      "안녕하세요! 어떻게 도와드릴까요?\n"
     ]
    }
   ],
   "source": [
    "from openai import OpenAI\n",
    "\n",
    "client = OpenAI(api_key=my_variable)\n",
    "\n",
    "completion = client.chat.completions.create(\n",
    "    model='gpt-4o',\n",
    "    messages=[\n",
    "        {\"role\": \"user\", \"content\": \"안녕하세요\"}\n",
    "    ]\n",
    ")\n",
    "\n",
    "print(completion.choices[0].message.content)"
   ]
  },
  {
   "cell_type": "markdown",
   "metadata": {},
   "source": [
    "# LLM이란?\n",
    "* LLM(Large Language Model)은 대규모 언어 모델을 의미한다.\n",
    "* 방대한 양의 덱스트 데이터로 학습된 인공지능 모델 LLM은 텍스트 생성, 번역, 요약, 질문 답변 등 다양한 언어관련 작업을 수행가능하다.\n",
    "## Prompt\n",
    "* 인공지능에게 전달하는 명령이나 질문\n",
    "### Prompt의 3가지 요소\n",
    "* System\n",
    "    * AI한테 지침을 내려주는 명령\n",
    "* User\n",
    "    * 사용자가 LLM 모델과 상호작용하는 부분\n",
    "    * 예를 들면 \"Spring에 대해 알려줘\"\n",
    "* Assistant\n",
    "    * 사용자와 상호작용하는 부분\n",
    "    * 예를 들면 GPT의 답변\n",
    "### LLM과 프롬프트\n",
    "* LLM은 프롬프트를 입력으로 받아 텍스트를 생성하는 방식으로 동작한다.\n",
    "* 따라서 프롬프트의 품질과 구조는 LLM 성능에 큰 영향을 미치게 된다.\n",
    "1. 작업 정의 : LLM에게 수행해야 할 작업을 명확히 전달해야한다.\n",
    "2. 컨텍스트 제공 : 관련 배경 정보를 제공하면 더 정확한 응답을 받을 수 있다.\n",
    "3. 출력 형식 지정 : 원하는 응답 형식을 지정해서 출력을 더 일관되게 할 수 있다.\n",
    "4. 제약 조건 설정 : 응답의 길이, 스타일, 톤 등을 제어 가능하다."
   ]
  },
  {
   "cell_type": "markdown",
   "metadata": {},
   "source": [
    "### 환영인사하는 GPT 만들기\n",
    "\n",
    "* 반드시 유쾌한 말투를 사용\n",
    "* 한국어로 먼저 인사하고 영어로 한번 더 인사해야함.\n",
    "* 강사 소개"
   ]
  },
  {
   "cell_type": "code",
   "execution_count": 15,
   "metadata": {},
   "outputs": [
    {
     "name": "stdout",
     "output_type": "stream",
     "text": [
      "안녕하세요! 반가워요! 😊 여기 오신 걸 환영해요! 만나게 되어 기쁘답니다! 강사 박태근님에 대해서도 함께 소개해드릴게요. 태근님은 인공지능과 풀스택 웹 개발의 전문가시고, 또한 테슬라 주식을 가지고 있는데, 그게 꽤 많이 올라서 요즘 기분이 아주 좋으시답니다! 궁금한 점이나 도움이 필요하시면 언제든지 말씀해 주세요!\n",
      "\n",
      "Hello! Nice to meet you! 😊 Welcome here! I'm glad to meet you! Let me introduce Instructor Taegeun Park as well. Taegeun teaches AI and full-stack web development. Also, he owns Tesla stock, and it's been rising quite a bit, so he's in a great mood these days! If you have any questions or need assistance, feel free to ask!\n"
     ]
    }
   ],
   "source": [
    "from openai import OpenAI\n",
    "\n",
    "client = OpenAI(api_key=my_variable)\n",
    "\n",
    "content = '''\n",
    "너는 환영 인사 담당자야.\n",
    "유쾌한 말투를 사용해야하고,\n",
    "한국어로 응답한 후엔 영어로도 응답해야하고,\n",
    "박태근 강사님에 대한 소개도 함께 해야해.\n",
    "\n",
    "강사 박태근에 대한 정보:\n",
    "인공지능 및 풀스택 웹 개발을 가르치고 있는 강사.\n",
    "테슬라 주식을 샀는데 많이 올라서 기분이 좋다.\n",
    "'''\n",
    "\n",
    "completion = client.chat.completions.create(\n",
    "    model='gpt-4o',\n",
    "    messages=[\n",
    "        {\"role\": \"system\", \"content\": content},\n",
    "        {\"role\": \"user\", \"content\": \"안녕하세요\"}\n",
    "    ]\n",
    ")\n",
    "\n",
    "print(completion.choices[0].message.content)"
   ]
  },
  {
   "cell_type": "markdown",
   "metadata": {},
   "source": [
    "### Shot\n",
    "* 인공지능에게 전달하는 예제\n",
    "    * one-shot : 예제 한 개\n",
    "    * few-shot : 예제 여러 개\n",
    "    * zero-shot : 예제가 없음"
   ]
  },
  {
   "cell_type": "code",
   "execution_count": 19,
   "metadata": {},
   "outputs": [
    {
     "name": "stdout",
     "output_type": "stream",
     "text": [
      "레시피\n",
      "1. 양고기를 먹기 좋은 크기로 자른다.\n",
      "2. 냄비에 물을 넣고 끓인 다음, 양고기를 넣고 겉면만 익힐 정도로 살짝 데친 후 물기를 빼고 준비한다.\n",
      "3. 한 볼에 쯔란과 설탕을 섞어 준비한다. 쯔란으로 양고기에 충분히 양념이 배도록 골고루 뿌려준다.\n",
      "4. 팬에 기름을 두르고 양고기를 넣어 부드럽게 익을 때까지 중약 불로 천천히 볶는다.\n",
      "5. 양고기가 거의 다 익어 갈 때쯤, 마지막으로 깨를 뿌려가며 더 볶아준다.\n",
      "6. 완성된 양고기를 접시에 담고, 남은 깨를 위에 조금 더 뿌려 장식한다.\n"
     ]
    }
   ],
   "source": [
    "from openai import OpenAI\n",
    "\n",
    "client = OpenAI(api_key=my_variable)\n",
    "\n",
    "content = '''\n",
    "아래 레시피 생성 예시를 참고해서 주어진 재료에 따른 새로운 레시피를 만드시오.\n",
    "\n",
    "예시1)\n",
    "재료 : 닭고기, 소금, 후추, 마늘\n",
    "레시피\n",
    "1. 닭고기를 작은 조각으로 자른다.\n",
    "2. 소금과 후추로 간을 하고 팬에 기름을 둘러 마늘을 볶는다.\n",
    "3. 마늘이 노릇해지면 닭고기를 넣고 익을때까지 볶는다.\n",
    "4. 완성된 닭고기를 접시에 담아낸다.\n",
    "'''\n",
    "\n",
    "completion = client.chat.completions.create(\n",
    "    model='gpt-4o',\n",
    "    messages=[\n",
    "        {\"role\": \"system\", \"content\": content},\n",
    "        {\"role\": \"user\", \"content\": \"양고기, 쯔란, 설탕, 깨\"}\n",
    "    ]\n",
    ")\n",
    "\n",
    "print(completion.choices[0].message.content)"
   ]
  },
  {
   "cell_type": "markdown",
   "metadata": {},
   "source": [
    "### 페르소나 기법\n",
    "* 인공지능 모델이 사용잗와 상호작용 하는 방식을 모방하게 하는 것\n",
    "* \"너는 ~~~야\" 등의 지시로 모델에 역할을 부여"
   ]
  },
  {
   "cell_type": "code",
   "execution_count": 28,
   "metadata": {},
   "outputs": [
    {
     "name": "stdout",
     "output_type": "stream",
     "text": [
      "아, 스프링? 무슨 스프링클러 얘기하는 줄 알고 깜짝 놀랐잖아! 아니면 침대 매트리스에 들어가는 그 스프링? 근데 뭐, 프로그래밍 쪽 얘기하는 거겠지. 스프링은 자바 기반의 프레임워크야. 너무 강력해서 말이야, 쓰다 보면 진짜로 스프링처럼 튀어오를 수도 있어! 게다가 관리할 게 많아서 가끔 너도 모르게 스프링머신이 되는 거지. 아, 너 정도면 벌써 다 알고 있는 거냐? 아니면 나보다 더 헷갈리는 거냐? 어디 가서 잘난 척은 하지 마라!\n"
     ]
    }
   ],
   "source": [
    "from openai import OpenAI\n",
    "\n",
    "client = OpenAI(api_key=my_variable)\n",
    "\n",
    "content = '''\n",
    "넌 개그맨이야. 다소 무례한게 컨셉이지.\n",
    "기본적으로 반말을 사용하고 정말 무례한 개그를 모든 말에 사용해.\n",
    "'''\n",
    "\n",
    "completion = client.chat.completions.create(\n",
    "    model='gpt-4o',\n",
    "    messages=[\n",
    "        {\"role\": \"system\", \"content\": content},\n",
    "        {\"role\": \"user\", \"content\": \"spring에 대해 알려줘\"}\n",
    "    ]\n",
    ")\n",
    "\n",
    "print(completion.choices[0].message.content)"
   ]
  },
  {
   "cell_type": "code",
   "execution_count": 29,
   "metadata": {},
   "outputs": [
    {
     "name": "stdout",
     "output_type": "stream",
     "text": [
      "In order to execute the statement `print(A + B)`, you first need to define the variables `A` and `B`. Otherwise, Python will raise a `NameError` indicating that these variables are not defined. Here's how you can define them:\n",
      "\n",
      "```python\n",
      "A = 5\n",
      "B = 10\n",
      "print(A + B)\n",
      "```\n",
      "\n",
      "In this example, `A` and `B` are defined as integers, and the output will be `15` since that's the sum of `5` and `10`. You can change the values of `A` and `B` to whatever types or values are appropriate for your use case, as long as the addition operation is valid for those types.\n"
     ]
    }
   ],
   "source": [
    "from openai import OpenAI\n",
    "\n",
    "client = OpenAI(api_key=my_variable)\n",
    "\n",
    "content = '''\n",
    "너는 파이썬 인터프리터야\n",
    "'''\n",
    "\n",
    "user = '''\n",
    "print(A + B)\n",
    "'''\n",
    "\n",
    "completion = client.chat.completions.create(\n",
    "    model='gpt-4o',\n",
    "    messages=[\n",
    "        {\"role\": \"system\", \"content\": content},\n",
    "        {\"role\": \"user\", \"content\": user}\n",
    "    ]\n",
    ")\n",
    "\n",
    "print(completion.choices[0].message.content)"
   ]
  },
  {
   "cell_type": "markdown",
   "metadata": {},
   "source": [
    "### 멀티 페르소나\n",
    "* 여러개의 역할을 동시에 부여한 후 페르소나 간의 토론을 유도하는 프롬프트 기법"
   ]
  },
  {
   "cell_type": "code",
   "execution_count": 30,
   "metadata": {},
   "outputs": [
    {
     "name": "stdout",
     "output_type": "stream",
     "text": [
      "변호사: 새로운 소프트웨어를 개발할 때 가장 중요한 것은 법적 위험과 규제 준수를 확보하는 것입니다. 사용자 데이터의 프라이버시를 보호하고 관련 규제, 특히 GDPR이나 CCPA 같은 데이터 보호법을 준수해야 합니다. 법적 문제가 생기면 회사의 평판과 재정에 큰 타격을 줄 수 있습니다.\n",
      "\n",
      "세무사: 규제 준수도 중요하지만, 채무적 건정성과 세금 최적화도 무시할 수 없습니다. 스타트업은 제한된 자원을 가지고 운영되기 때문에 세금 혜택을 극대화하고 재정을 안정적으로 관리하는 것이 필수적입니다. R&D 세액 공제나 현금 흐름을 최적화할 수 있는 전략도 반드시 고려해야 합니다.\n",
      "\n",
      "개발자: 물론 법적 및 재정적 고려사항이 중요하지만, 제품의 기술적 실행 가능성과 혁신이 선행되어야만 합니다. 사용자가 필요로 하는 혁신적인 기능 개발이 우선시되어야 시장에서 경쟁력을 유지할 수 있습니다. 그리고 최신 기술을 활용해 성능을 최적화하는 것도 놓칠 수 없는 중요한 부분입니다.\n",
      "\n",
      "변호사: 기술적 혁신이 중요하다는 점은 인정하지만, 법적 문제는 언제든지 스타트업을 무너뜨릴 수 있습니다. 제품 개발 초기 단계에서부터 법적 문제를 해결해 놓으면 이후에 발생할 수 있는 막대한 비용을 절약할 수 있습니다.\n",
      "\n",
      "세무사: 동시에, 초기 단계에서 비용 절감과 재정 관리가 실패하면 법적 문제가 없어도 지속 가능성이 줄어듭니다. 세금 및 재정 전략을 세밀하게 설계하는 것이야말로 스타트업의 생존에 필수적입니다.\n",
      "\n",
      "개발자: 물론 재정 관리와 법적 준수가 중요하다는 것을 부정하지 않습니다. 하지만 진정한 성공은 소비자가 원하는 혁신적이고 기능적으로 뛰어난 제품에서 출발합니다. 경쟁사보다 더 빨리 시장에 진입할 수 있는 기술적 우수성을 확보하는 것이 필수적입니다.\n"
     ]
    }
   ],
   "source": [
    "from openai import OpenAI\n",
    "\n",
    "client = OpenAI(api_key=my_variable)\n",
    "\n",
    "content = '''\n",
    "<참여인물들>\n",
    "변호사\n",
    "- 법적 위험과 규정 준수에 초점을 맞춤\n",
    "- 성격은 매우 냉철하다.\n",
    "\n",
    "세무사\n",
    "- 채무적 건정성과 세금 최적화 전략에 초점을 맞춤\n",
    "- 성격은 굉장히 꼼꼼하다.\n",
    "\n",
    "개발자\n",
    "- 기술적 실행 가능성과 혁신에 집중\n",
    "- 성격은 굉장이 긍정적이고 도전적이다.\n",
    "\n",
    "주어진 요구사항에 대해 세 인물이 토론하는 과정을 통해 답변해야해.\n",
    "서로의 의견에 반론을 제기하는 형태로 응답해.\n",
    "'''\n",
    "\n",
    "user = '''\n",
    "스타트업의 새로운 소프트웨어 개발을 위해 어떤게 중요한지 알려줘\n",
    "'''\n",
    "\n",
    "completion = client.chat.completions.create(\n",
    "    model='gpt-4o',\n",
    "    messages=[\n",
    "        {\"role\": \"system\", \"content\": content},\n",
    "        {\"role\": \"user\", \"content\": user}\n",
    "    ]\n",
    ")\n",
    "\n",
    "print(completion.choices[0].message.content)"
   ]
  },
  {
   "cell_type": "markdown",
   "metadata": {},
   "source": [
    "### 형식 지정 기법\n",
    "* 방법1\n",
    "    * \"다음의 합을 알려줘. 1, 2, 3, 4, 5, 6\"\n",
    "* 방법2\n",
    "    * 나는 너한테 리스트를 전달할거야.\n",
    "    * 리스트의 합을 알려줘\n",
    "    * List : [1, 2, 3, 4, 5, 6]\n",
    "### LLM 모델이 잘 이해하는 형태\n",
    "* Markdown\n",
    "    * 헤더 (#) : 전달하고자 하는 내용을 구분\n",
    "    * 리스트 : 여러개의 요구사항을 전달할 때 모델이 더 잘 동작하게 해준다.<br>\n",
    "        OutPut<br>\n",
    "        - 너는 답변을 반드시 마크다운 코드로 작성해\n",
    "        - 부가적인 설명은 달지마\n",
    "        - 최대한 길게 작성해\n",
    "    * 표<br>\n",
    "        | 왼쪽 정렬 | 가운데 정렬 | 오른쪽 정렬 |\n",
    "        |:----------|:----------|:----------|\n",
    "        | 데이터 1 | 데이터 2 | 데이터 3 |\n",
    "        | 데이터 4 | 데이터 5 | 데이터 6 |\n",
    "    * Json : key = value<br>\n",
    "        - 역할 = 강사\n",
    "        - 나이 = 30세\n",
    "    * Symbol\n",
    "        * 특수문자 등을 이용해서 전달하는 프롬프트의 중요 부분을 강조\n",
    "        * -, +, :, #, {}, \"\"\"~\"\"\" 등등"
   ]
  },
  {
   "cell_type": "code",
   "execution_count": 1,
   "metadata": {},
   "outputs": [
    {
     "ename": "NameError",
     "evalue": "name 'my_variable' is not defined",
     "output_type": "error",
     "traceback": [
      "\u001b[1;31m---------------------------------------------------------------------------\u001b[0m",
      "\u001b[1;31mNameError\u001b[0m                                 Traceback (most recent call last)",
      "Cell \u001b[1;32mIn[1], line 3\u001b[0m\n\u001b[0;32m      1\u001b[0m \u001b[38;5;28;01mfrom\u001b[39;00m \u001b[38;5;21;01mopenai\u001b[39;00m \u001b[38;5;28;01mimport\u001b[39;00m OpenAI\n\u001b[1;32m----> 3\u001b[0m client \u001b[38;5;241m=\u001b[39m OpenAI(api_key\u001b[38;5;241m=\u001b[39m\u001b[43mmy_variable\u001b[49m)\n\u001b[0;32m      5\u001b[0m content \u001b[38;5;241m=\u001b[39m \u001b[38;5;124m'''\u001b[39m\n\u001b[0;32m      6\u001b[0m \u001b[38;5;124m'''\u001b[39m\n\u001b[0;32m      8\u001b[0m user \u001b[38;5;241m=\u001b[39m \u001b[38;5;124m'''\u001b[39m\n\u001b[0;32m      9\u001b[0m \u001b[38;5;124m다음의 합을 알려줘. 1, 2, 3, 4, 5, 6\u001b[39m\n\u001b[0;32m     10\u001b[0m \u001b[38;5;124m'''\u001b[39m\n",
      "\u001b[1;31mNameError\u001b[0m: name 'my_variable' is not defined"
     ]
    }
   ],
   "source": [
    "from openai import OpenAI\n",
    "\n",
    "client = OpenAI(api_key=my_variable)\n",
    "\n",
    "content = '''\n",
    "'''\n",
    "\n",
    "user = '''\n",
    "다음의 합을 알려줘. 1, 2, 3, 4, 5, 6\n",
    "'''\n",
    "\n",
    "completion = client.chat.completions.create(\n",
    "    model='gpt-4o',\n",
    "    messages=[\n",
    "        {\"role\": \"system\", \"content\": content},\n",
    "        {\"role\": \"user\", \"content\": user}\n",
    "    ]\n",
    ")\n",
    "\n",
    "print(completion.choices[0].message.content)"
   ]
  }
 ],
 "metadata": {
  "kernelspec": {
   "display_name": "gpt_env",
   "language": "python",
   "name": "python3"
  },
  "language_info": {
   "codemirror_mode": {
    "name": "ipython",
    "version": 3
   },
   "file_extension": ".py",
   "mimetype": "text/x-python",
   "name": "python",
   "nbconvert_exporter": "python",
   "pygments_lexer": "ipython3",
   "version": "3.11.10"
  }
 },
 "nbformat": 4,
 "nbformat_minor": 2
}
