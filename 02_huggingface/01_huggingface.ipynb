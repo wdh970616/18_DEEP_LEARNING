{
 "cells": [
  {
   "cell_type": "markdown",
   "metadata": {
    "vscode": {
     "languageId": "plaintext"
    }
   },
   "source": [
    "# 01. Hugging Face\n",
    "---\n",
    "## 01-01. Hugging Face란?\n",
    "* 코드로 구현되어있는 모델을 모아놓은 곳으로 AI의 github이라 불린다.\n",
    "* 허깅페이스는 최신  AI 기술을 더 간편하게 활용할 수 있도록 제공되는 플랫폼이며 핵심 기술은 Transformers 라이브러리이다.\n",
    "### 01-01-01. Hugging Face의 장점\n",
    "* 모델을 처음부터 개발하고 훈련할 필요가 없다.\n",
    "* 사용 편의성(간단하고 사용자 친화적인 인터페이스가 제공되어 쉽게 이용 가능함.)\n",
    "* 지속적으로 발전중(AI의 최신기술을 공유받고 쉽게 접근 가능함.)\n",
    "---\n",
    "## 01-02. Transformers 라이브러리\n",
    "### 01-01-01. 자연어 처리\n",
    "* 컴퓨터가 인간의 언어를 이해, 생성, 조작할 수 있도록 해주는 인공지능의 한 분야\n",
    "\n",
    "**자연어 처리의 주요 단계**\n",
    "* 토큰화 : 텍스트를 의미있는 단위(토큰)로 나누는 과정<br>\n",
    "예시 : \"나는 학교에 간다\" => [\"나는\", \"학교에\", \"간다\"]\n",
    "* 단어 집합 생성 : 텍스트에서 고유한 단어들을 모아 사전을 만드는 과정<br>\n",
    "예시 : [\"나는\", \"학교에\", \"간다\"] => {\"나는\", \"학교에\", \"간다\"}\n",
    "* 정수 인코딩 : 단어를 고유한 정수로 변환하여 컴퓨터가 처리할 수 있게 하는 과정<br>\n",
    "예시 : {\"나는\", \"학교에\", \"간다\"} => [1, 2, 3]\n",
    "* 패딩 : 서로 다른 길이의 시퀀스를 동일한 길이로 맞추는 과정<br>\n",
    "예시 : [1, 2, 3] => [1, 2, 3, 0, 0] (길이 5로 패딩)\n",
    "* 벡터화 : 텍스트 데이터를 숫자 벡터로 변환하여 기계학습 모델에 입력할 수 있게 하는 과정<br>\n",
    "예시 : \"나는\" => [0.1, 0.2, 0.3, ..., 0.9] (100차원 벡터)\n",
    "\n",
    "**형태소 토큰화**\n",
    "* 원시문 예시 : \"길을 가다가 고양이를 봤어. 고양이에게 츄르를 주려 했는데 고양이가 도망가버렸어.\"\n",
    "* 토큰화 예시 : [\"길을\", \"가다가\", \"고양이를\", \"봤어\", \".\", \"고양이에게\", \"츄르를\", \"주려\", \"했는데\", \"고양이가\", \"도망가버렸어\", \".\"]\n",
    "\n",
    "똑같은 고양이가 총 3번 등장한다. 이 때 \"를\", \"에게\", \"가\"등의 조사에 따라 기계는 각기 다른 단어로 인식할 수 있다. 따라서 한국에서는 보편적으로 '형태소 분석기'로 토큰화를 진행한다.\n",
    "\n",
    "* 형태소 토큰화 예시 : [\"길\", \"을\", \"가다가\", \"고양이\", \"를\", \"보\", \"았\", \"어\", \".\", \"고양이\", \"에게\", \"츄르\", \"를\", \"주\", \"려\", \"하\", \"였\", \"는데\", \"고양이\", \"가\", \"도망가\", \"버리\", \"었\", \"어\", \".\"]\n",
    "\n",
    "이렇게 형태소 단위로 분리하면 \"고양이\" 라는 단어가 일관되게 인식되며, 조사나 어미는 별도로 분리된다.<br>\n",
    "이를 통해 기계가 더 정확하게 단어의 의미와 문법적 기능을 파악할 수 있다.\n",
    "\n",
    "### 자연어 처리 발전 과정\n",
    "**카운트 기반 단어 표현**\n",
    "* 단어 표현 중 하나로, 단어의 빈도수를 기반으로 단어의 의미를 표현하는 방법\n",
    "* DTM(Document Term Matrix) : 문서 내 단어의 빈도수를 기반으로 문서를 표현하는 방법\n",
    "* TF-IDF : 단어의 중요도를고려하여 문서를 표현하는 방법\n",
    "\n",
    "**Bag of Words(단어주머니)**\n",
    "* 문서 내 단어의 출현 여부를 기반으로 문서를 표현하는 방법\n",
    "* 단어의 출현 빈도로만 나타내기 때문에 단어의 순서는 고려하지 않는다.<br>\n",
    "=> 문맥 파악이 불가능(강아지가 놀고있다 와 놀고 있는강아지를 구별 못함.)\n",
    "\n",
    "**단어임베딩(통계 기반의 언어 모델)**\n",
    "* 대표적인 알고리즘 : Word2vec, GloVe\n",
    "* 단어를 벡터로 표현하는 방법\n",
    "* 단어의 의미르 벡터로 표현하여 문맥을 고려할 수 있도록 해준다.<br>\n",
    "=> 하지만 다의어(문맥에 따라 다양한 의미를 가지는 단어)를 구별하지 못함.\n",
    "\n",
    "### 딥러닝 기반 언어 모델\n",
    "**시퀀스 모델**\n",
    "* 시퀀스란?\n",
    "    * 시퀀스는 순서가 있는데이터의 집합을 의미한다. 자연어 처리에서 시퀀스는 주로 단어나 문자의 연속을 나타낸다.<br>\n",
    "    예를 들어, 문장은 단어들의 시퀀스이고 단어는 문자들의 시퀀스이다.\n",
    "* RNN(Recurrent Nueral Network)\n",
    "    * 순차적 데이터를처리하는 신경망으로 이전 단계의 정보를 현재 단계로 전달하는 구조를 가짐\n",
    "* LSTM(Long Short-Term Memory)\n",
    "    * RNN의 장기 의존성 문제를 해결하기 위해 개발된 모델로 장기 기억을 유지할 수 있는 구조를 가짐\n",
    "* GRU(Gated Recurrent Unit)\n",
    "    * LSTM을 간소화 한 모델로 더 적은 매개변수를 사용하면서도 비슷한 성능을 보임\n",
    "### 01-01-02. Transformers 라이브러리란?\n",
    "* 허깅페이스에서 제공하는 최신 모델을 쉽게 사용할 수 있도록 도와주는 라이브러리이다.\n",
    "* 트랜스포머는 자연어 처리 분야에서 많이 사용되는 모델로 다양한 언어 모델을 포함하고 있다.\n",
    "\n",
    "트랜스포머는 자연어 처리 분야의 주요 딥러닝 모델로 \"Attention is All You Need\" 논문에서 소개되었다.<br>\n",
    "Self-Attention 메커니즘을 사용하여 문맥 이해와 단어 간 관계 파악에 효과적이다.<br>\n",
    "기계 번역, 텍스트 생성, 질문응답 등다양한 작업에서 우수한 성능을 보인다.\n",
    "\n",
    "쉽게 생각하면 컴퓨터가 말하는 방법을 배우는 것과 비슷한 것으로 문장 속의 단어들이 어떤 관계를 가지고 있는지 파악하고 문장의 뜻을 이해하는 기술이다.\n",
    "\n",
    "* Transformers를 통해 사전 학습된 최신 모델을 쉽게 다운로드하고 학습할 수 있는 API와 도구를 제공한다.\n",
    "**지원하는 기능**\n",
    "1. 자연어 처리 : 텍스트 분류, 엔티티 인식, 질문답변, 언어모델링, 요약, 번역, 객관식 텍스트 생성\n",
    "2. 컴퓨터 비전 : 이미지 분류, 물체감지 및 분할\n",
    "3. 오디오 : 음성 인식 및 오디오 분류\n",
    "4. 멀티모달 : 테이블 질문 답변, 광학문자 인식, 스캔문서에서 정보추출, 비디오 분류, 시각적 질문답변\n",
    "* 멀티 모달이란?\n",
    "    * 텍스트 이미지, 음성, 영상 등 다양한 양식으로 훈련해 다양한 결과물을낼 수 있는 모델<br>\n",
    " => 즉, 여러가지 유형의 데이터를 동시에 다루는 기술\n",
    "\n",
    " https://huggingface.co/docs/transformers/index\n",
    " * 파이토치 : https://pytorch.kr/get-started/locally/\n",
    " * 트랜스포머스 : pip install transformers\n"
   ]
  },
  {
   "cell_type": "code",
   "execution_count": 10,
   "metadata": {},
   "outputs": [
    {
     "name": "stdout",
     "output_type": "stream",
     "text": [
      "tensor([[0.5173, 0.5654, 0.8043],\n",
      "        [0.8135, 0.0951, 0.8840],\n",
      "        [0.0093, 0.5864, 0.6573],\n",
      "        [0.7339, 0.5553, 0.7112],\n",
      "        [0.7840, 0.5735, 0.7327]])\n",
      "4.45.2\n"
     ]
    }
   ],
   "source": [
    "import torch\n",
    "\n",
    "x = torch.rand(5, 3)\n",
    "print(x)\n",
    "\n",
    "import transformers\n",
    "\n",
    "print(transformers.__version__)"
   ]
  },
  {
   "cell_type": "markdown",
   "metadata": {},
   "source": [
    "### 01-01-03. 사용방법\n",
    "**pipeline() 함수**\n",
    "* 다양한 task를 위한 인터페이스를 제공하여 복잡한 모델을 쉽게 사용할 수 있게 해준다.\n",
    "* 특정 모델과 동작에 필요한 전처리 및 후처리 단계를 연결하여 텍스트를 직접 입력하고 이해하기 쉬운 답변을 얻을 수 있다.\n",
    "\n",
    "**pipeline() 함수의 인자**\n",
    "1. 공통인자\n",
    "* task : 수행할 작업의 종류를 지정\n",
    "* model : 사용할 모델의 이름이나 경로를 지정\n",
    "* tokenizer : 사용할 토크나이저 지정(모델과 함께 제공되는 토크나이저를 사용하는게 일반적이다.)\n",
    "* framework : 사용할 딥러닝 프레임워크 지정(pt : 파이토치, tf : 텐서플로우)\n",
    "* device : 실행할 장치(CPU => -1, GPU => 0), cuda\n",
    "2. 작업별 인자\n",
    "* text-generation\n",
    "    * max_length : 생성할 텍스트의 최대 길이 지정\n",
    "    * num_return_sequence : 생성할 텍스트의 갯수 지정\n",
    "    * temperature : 무작위성을 조절하는 파라미터\n",
    "* question-answering\n",
    "    * context : 질문에 대한 답을 찾을 문맥 제공\n",
    "    * question : 답을 찾고자 하는 질문\n",
    "* translation\n",
    "    * src_lang : 원본 텍스트의 언어 지정\n",
    "    * tgt_lang : 번역할 목표 언어 지정\n",
    "* summarization\n",
    "    * min_length : 요약문에서 생성할 최소 단어 수 지정\n",
    "    * max_length : 요약문에서 생성할 최대 단어 수 지정"
   ]
  },
  {
   "cell_type": "code",
   "execution_count": 1,
   "metadata": {},
   "outputs": [
    {
     "name": "stderr",
     "output_type": "stream",
     "text": [
      "No model was supplied, defaulted to facebook/wav2vec2-base-960h and revision 22aad52 (https://huggingface.co/facebook/wav2vec2-base-960h).\n",
      "Using a pipeline without specifying a model name and revision in production is not recommended.\n",
      "Some weights of Wav2Vec2ForCTC were not initialized from the model checkpoint at facebook/wav2vec2-base-960h and are newly initialized: ['wav2vec2.masked_spec_embed']\n",
      "You should probably TRAIN this model on a down-stream task to be able to use it for predictions and inference.\n"
     ]
    }
   ],
   "source": [
    "# transformers 패키지에서 pipeline을 import\n",
    "from transformers import pipeline\n",
    "\n",
    "# 음성을 인식해서 텍스트로 출력할 수 있는 모델\n",
    "# STT (automatic-speech-recognition) : 음성인식\n",
    "# pipeline에 작업을 인자로 주면 자동으로 적합한 모델과 전처리 클래스를 불러온다.\n",
    "transcriber = pipeline('automatic-speech-recognition')"
   ]
  },
  {
   "cell_type": "code",
   "execution_count": 2,
   "metadata": {},
   "outputs": [
    {
     "data": {
      "text/plain": [
       "{'text': 'I HAVE A DREAM BUT ONE DAY THIS NATION WILL RISE UP LIVE UP THE TRUE MEANING OF ITS TREES'}"
      ]
     },
     "execution_count": 2,
     "metadata": {},
     "output_type": "execute_result"
    }
   ],
   "source": [
    "# 마틴루터킹 목사 연설 중 일부\n",
    "# I have a fream that one day this nation will rise up and live out the true meaning of its creed\n",
    "transcriber('https://huggingface.co/datasets/Narsil/asr_dummy/resolve/main/mlk.flac')"
   ]
  },
  {
   "cell_type": "code",
   "execution_count": 3,
   "metadata": {},
   "outputs": [
    {
     "name": "stderr",
     "output_type": "stream",
     "text": [
      "c:\\Users\\80407\\miniforge3\\envs\\tf\\Lib\\site-packages\\transformers\\models\\whisper\\generation_whisper.py:496: FutureWarning: The input name `inputs` is deprecated. Please make sure to use `input_features` instead.\n",
      "  warnings.warn(\n",
      "Due to a bug fix in https://github.com/huggingface/transformers/pull/28687 transcription using a multilingual Whisper will default to language detection followed by transcription instead of translation to English.This might be a breaking change for your use case. If you want to instead always translate your audio to English, make sure to pass `language='en'`.\n",
      "Passing a tuple of `past_key_values` is deprecated and will be removed in Transformers v4.43.0. You should pass an instance of `EncoderDecoderCache` instead, e.g. `past_key_values=EncoderDecoderCache.from_legacy_cache(past_key_values)`.\n"
     ]
    },
    {
     "data": {
      "text/plain": [
       "{'text': ' I have a dream that one day this nation will rise up and live out the true meaning of its creed.'}"
      ]
     },
     "execution_count": 3,
     "metadata": {},
     "output_type": "execute_result"
    }
   ],
   "source": [
    "transcriber = pipeline(model=\"openai/whisper-large-v3-turbo\")\n",
    "transcriber(\"https://huggingface.co/datasets/Narsil/asr_dummy/resolve/main/mlk.flac\")"
   ]
  },
  {
   "cell_type": "markdown",
   "metadata": {},
   "source": [
    "### AutoClass\n",
    "* 사전 학습된 모델을 쉽게 사용할 수 있도록 도와주는 클래스\n",
    "* 수행하고자 하는 task에 적합한 AutoModel과 AutoTokenizer를 선택해준다.\n",
    "\n",
    "| 구성요소 | 목적 | 특성 | 데이터 타입 | 변형 과정 | 결과물 | 주요 사용 사례 |\n",
    "|---------|------|------|------------|-----------|--------|---------------|\n",
    "| 사전 훈련된 토크나이저 | 텍스트 데이터를 모델이 처리할 수 있는 형태로 변환 | 텍스트 토큰화, 인코딩, 어휘사전 관리 | 텍스트 | 토큰화, 인코딩 | 모델이 처리할 수 있는 텍스트 형태 | 자연어 이해 및 생성 작업 |\n",
    "| 사전 훈련된 이미지 프로세서 | 이미지 데이터를 모델이 처리할 수 있는 형태로 변환 | 이미지 크기 조정, 정규화, 텐서 변환 | 이미지 | 크기 조정, 정규화 | 모델이 처리할 수 있는 이미지 형태 | 이미지 분류, 객체 감지 |\n",
    "| 사전 훈련된 특성 추출기 | 데이터로부터 중요한 특성을 추출 | 다양한 데이터 타입 처리, 중요 특성 식별 | 다양한 데이터 | 중요 특성 추출 | 분석 및 모델 입력에 필요한 특성 | 데이터 분석, 모델 학습 |\n",
    "| 사전 훈련된 프로세서 | 다양한 데이터 타입의 전처리를 통합 관리 | 텍스트, 이미지 등 다양한 데이터 처리 | 텍스트, 이미지 등 | 통합 전처리 | 다양한 형태의 데이터 처리 | 멀티모달 입력을 가진 작업 |\n",
    "| 사전 훈련된 모델 | 특정 작업을 수행하는 데 바로 사용 가능 | 다양한 아키텍처, 사전 훈련된 가중치 | 텍스트, 이미지 | 가중치 튜닝 | 작업 수행(분류, 생성 등) | 자연어 및 이미지 처리 작업 |\n",
    "| AutoBackbone | 이미지 데이터를 효율적으로 처리할 수 있도록 모델 아키텍처 제공 | 사전 훈련된 가중치 사용, 다양한 모델 지원 가능성 제공 | 이미지 | 아키텍처 선택 및 튜닝 | 이미지 관련 작업에 적합한 모델 구조 | 이미지 분류, 객체 인식, 특성 추출 등 |\n",
    "\n",
    "1. AutoTokenizer\n",
    "* 텍스트를 모델이 처리할 수 있는 형태로 변환"
   ]
  },
  {
   "cell_type": "code",
   "execution_count": 11,
   "metadata": {},
   "outputs": [],
   "source": [
    "from transformers import AutoTokenizer\n",
    "\n",
    "# 토큰화만 진행\n",
    "# google-bert/bert-base-uncased 모델에 최적화된 토크나이저를 찾아내고 다운로드하여 사용할 수 있게 해준다.\n",
    "tokenizer = AutoTokenizer.from_pretrained('google-bert/bert-base-uncased')"
   ]
  },
  {
   "cell_type": "code",
   "execution_count": 12,
   "metadata": {},
   "outputs": [
    {
     "name": "stdout",
     "output_type": "stream",
     "text": [
      "{'input_ids': [101, 7592, 1010, 2026, 3899, 2003, 10140, 102], 'token_type_ids': [0, 0, 0, 0, 0, 0, 0, 0], 'attention_mask': [1, 1, 1, 1, 1, 1, 1, 1]}\n"
     ]
    }
   ],
   "source": [
    "sequence = \"Hello, my dog is cute\"\n",
    "print(tokenizer(sequence))"
   ]
  },
  {
   "cell_type": "markdown",
   "metadata": {},
   "source": [
    "2. AutoImageProcessor\n",
    "* 이미지 데이터를 모델이 처리할 수 있는 형태로 변환"
   ]
  },
  {
   "cell_type": "code",
   "execution_count": 13,
   "metadata": {},
   "outputs": [
    {
     "name": "stderr",
     "output_type": "stream",
     "text": [
      "Fast image processor class <class 'transformers.models.vit.image_processing_vit_fast.ViTImageProcessorFast'> is available for this model. Using slow image processor class. To use the fast image processor class set `use_fast=True`.\n"
     ]
    },
    {
     "name": "stdout",
     "output_type": "stream",
     "text": [
      "{'pixel_values': tensor([[[[ 0.1137,  0.1686,  0.1843,  ..., -0.1922, -0.1843, -0.1843],\n",
      "          [ 0.1373,  0.1686,  0.1843,  ..., -0.1922, -0.1922, -0.2078],\n",
      "          [ 0.1137,  0.1529,  0.1608,  ..., -0.2314, -0.2235, -0.2157],\n",
      "          ...,\n",
      "          [ 0.8353,  0.7882,  0.7333,  ...,  0.7020,  0.6471,  0.6157],\n",
      "          [ 0.8275,  0.7961,  0.7725,  ...,  0.5843,  0.4667,  0.3961],\n",
      "          [ 0.8196,  0.7569,  0.7569,  ...,  0.0745, -0.0510, -0.1922]],\n",
      "\n",
      "         [[-0.8039, -0.8118, -0.8118,  ..., -0.8902, -0.8902, -0.8980],\n",
      "          [-0.7882, -0.7882, -0.7882,  ..., -0.8745, -0.8745, -0.8824],\n",
      "          [-0.8118, -0.8039, -0.7882,  ..., -0.8902, -0.8902, -0.8902],\n",
      "          ...,\n",
      "          [-0.2706, -0.3176, -0.3647,  ..., -0.4275, -0.4588, -0.4824],\n",
      "          [-0.2706, -0.2941, -0.3412,  ..., -0.4824, -0.5451, -0.5765],\n",
      "          [-0.2784, -0.3412, -0.3490,  ..., -0.7333, -0.7804, -0.8353]],\n",
      "\n",
      "         [[-0.5451, -0.4667, -0.4824,  ..., -0.7412, -0.6941, -0.7176],\n",
      "          [-0.5529, -0.5137, -0.4902,  ..., -0.7412, -0.7098, -0.7412],\n",
      "          [-0.5216, -0.4824, -0.4667,  ..., -0.7490, -0.7490, -0.7647],\n",
      "          ...,\n",
      "          [ 0.5686,  0.5529,  0.4510,  ...,  0.4431,  0.3882,  0.3255],\n",
      "          [ 0.5451,  0.4902,  0.5137,  ...,  0.3020,  0.2078,  0.1294],\n",
      "          [ 0.5686,  0.5608,  0.5137,  ..., -0.2000, -0.4275, -0.5294]]]])}\n"
     ]
    }
   ],
   "source": [
    "from transformers import AutoImageProcessor, AutoModelForImageClassification\n",
    "from PIL import Image\n",
    "import requests\n",
    "\n",
    "# google/vit-base-patch16-224 모델을 사용하는데 최적화된 이미지 프로세서(전처리기)를 가져온다.\n",
    "image_processor = AutoImageProcessor.from_pretrained(\"google/vit-base-patch16-224\")\n",
    "model = AutoModelForImageClassification.from_pretrained(\"google/vit-base-patch16-224\")\n",
    "\n",
    "# 이미지 다운로드\n",
    "url = 'http://images.cocodataset.org/val2017/000000039769.jpg'\n",
    "\n",
    "image = Image.open(requests.get(url, stream=True).raw)\n",
    "\n",
    "# 이미지 전처리\n",
    "inputs = image_processor(images=image, return_tensors='pt')\n",
    "\n",
    "print(inputs)"
   ]
  },
  {
   "cell_type": "code",
   "execution_count": 9,
   "metadata": {},
   "outputs": [
    {
     "name": "stdout",
     "output_type": "stream",
     "text": [
      "Predicted class: Egyptian cat\n"
     ]
    }
   ],
   "source": [
    "# 추론\n",
    "outputs = model(**inputs)\n",
    "\n",
    "# 추론 결과 출력\n",
    "logits = outputs.logits\n",
    "\n",
    "# model predicts one of the 1000 ImageNet classes\n",
    "predicted_class_idx = logits.argmax(-1).item()\n",
    "\n",
    "print(\"Predicted class:\", model.config.id2label[predicted_class_idx])"
   ]
  }
 ],
 "metadata": {
  "kernelspec": {
   "display_name": "tf",
   "language": "python",
   "name": "python3"
  },
  "language_info": {
   "codemirror_mode": {
    "name": "ipython",
    "version": 3
   },
   "file_extension": ".py",
   "mimetype": "text/x-python",
   "name": "python",
   "nbconvert_exporter": "python",
   "pygments_lexer": "ipython3",
   "version": "3.11.10"
  }
 },
 "nbformat": 4,
 "nbformat_minor": 2
}
